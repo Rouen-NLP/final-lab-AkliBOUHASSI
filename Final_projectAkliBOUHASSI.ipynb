{
 "cells": [
  {
   "cell_type": "code",
   "execution_count": 2,
   "metadata": {},
   "outputs": [],
   "source": [
    "import pandas as pd\n",
    "\n",
    "# load dataframe from CSV file\n",
    "data = pd.read_csv('data/tobacco-lab_data_Tobacco3482.csv')"
   ]
  },
  {
   "cell_type": "code",
   "execution_count": 3,
   "metadata": {},
   "outputs": [
    {
     "data": {
      "text/plain": [
       "img_path    3482\n",
       "label       3482\n",
       "dtype: int64"
      ]
     },
     "execution_count": 3,
     "metadata": {},
     "output_type": "execute_result"
    }
   ],
   "source": [
    "data.count()"
   ]
  },
  {
   "cell_type": "code",
   "execution_count": 4,
   "metadata": {},
   "outputs": [
    {
     "name": "stderr",
     "output_type": "stream",
     "text": [
      "/Users/Akli/anaconda3/lib/python3.6/site-packages/ipykernel_launcher.py:4: FutureWarning: get_value is deprecated and will be removed in a future release. Please use .at[] or .iat[] accessors instead\n",
      "  after removing the cwd from sys.path.\n",
      "/Users/Akli/anaconda3/lib/python3.6/site-packages/ipykernel_launcher.py:5: FutureWarning: set_value is deprecated and will be removed in a future release. Please use .at[] or .iat[] accessors instead\n",
      "  \"\"\"\n",
      "/Users/Akli/anaconda3/lib/python3.6/site-packages/ipykernel_launcher.py:6: FutureWarning: get_value is deprecated and will be removed in a future release. Please use .at[] or .iat[] accessors instead\n",
      "  \n",
      "/Users/Akli/anaconda3/lib/python3.6/site-packages/ipykernel_launcher.py:6: FutureWarning: set_value is deprecated and will be removed in a future release. Please use .at[] or .iat[] accessors instead\n",
      "  \n",
      "/Users/Akli/anaconda3/lib/python3.6/site-packages/ipykernel_launcher.py:7: FutureWarning: get_value is deprecated and will be removed in a future release. Please use .at[] or .iat[] accessors instead\n",
      "  import sys\n",
      "/Users/Akli/anaconda3/lib/python3.6/site-packages/ipykernel_launcher.py:7: FutureWarning: set_value is deprecated and will be removed in a future release. Please use .at[] or .iat[] accessors instead\n",
      "  import sys\n"
     ]
    }
   ],
   "source": [
    "nbr = data.shape[0]\n",
    "\n",
    "for i in range (nbr):\n",
    "    a = data.get_value(i, 'img_path')\n",
    "    data.set_value(i, 'img_path', 'data/Tobacco3482-OCR/'+a)\n",
    "    data.set_value(i, 'img_path', data.get_value(i, 'img_path').split('.jpg')[0]+'.txt')\n",
    "    data.set_value(i, 'img_path',open(data.get_value(i, 'img_path'), \"r\").read())"
   ]
  },
  {
   "cell_type": "code",
   "execution_count": 18,
   "metadata": {},
   "outputs": [],
   "source": [
    "data.columns = ['text','label']"
   ]
  },
  {
   "cell_type": "code",
   "execution_count": 19,
   "metadata": {},
   "outputs": [
    {
     "data": {
      "text/plain": [
       "<matplotlib.axes._subplots.AxesSubplot at 0x1a12513be0>"
      ]
     },
     "execution_count": 19,
     "metadata": {},
     "output_type": "execute_result"
    },
    {
     "data": {
      "image/png": "[encoded data removed]",
      "text/plain": [
       "<Figure size 432x288 with 1 Axes>"
      ]
     },
     "metadata": {
      "needs_background": "light"
     },
     "output_type": "display_data"
    }
   ],
   "source": [
    "import seaborn as sns\n",
    "%matplotlib inline\n",
    "\n",
    "# Plot the statistics of category\n",
    "sns.countplot(data=data,y='label')"
   ]
  },
  {
   "cell_type": "code",
   "execution_count": 21,
   "metadata": {},
   "outputs": [
    {
     "name": "stdout",
     "output_type": "stream",
     "text": [
      "                                                text          label\n",
      "0  A Mpertant as yar\\nsesiye teaetered cabiieess....  Advertisement\n",
      "1  TE che fitm\\n\\nm66400 7127\\n\\nKOOLS are the on...  Advertisement\n",
      "2  so ARN Rr nr\\n\\nBWR Ga ||\\n\\nVending Operators...  Advertisement\n",
      "3  MARCH 24,19 VO — 3. Tersrearep\\n\\n \\n\\n‘ yi il...  Advertisement\n",
      "4  ~\\n\\nSpend a milder moment qs\\nwith Raleigh.\\n...  Advertisement\n"
     ]
    },
    {
     "data": {
      "text/plain": [
       "'A Mpertant as yar\\nsesiye teaetered cabiieess. Baely\\n\\ndoesn’) keow bea te\\nBitton Aau-Fotne bl resin syste. Cant\\n\\nviduiiliy crafted. Parenter\\ntiott, Most eapennese liste rn siichinng\\n\\nHolimars. Costlicr of course\\n\\n      \\n  \\n \\n\\n“Has Oetenined -\\n\\nWainy: Thy\\nie Hoel? h.\\n\\nThat Cia\\n\\nMarg a Féme awe ii na eager ref Hizon a ol\\n\\n \\n\\n \\n\\nRa a\\n\\n6P9S70099'"
      ]
     },
     "execution_count": 21,
     "metadata": {},
     "output_type": "execute_result"
    }
   ],
   "source": [
    "# Print examples of the articles\n",
    "print(data.head())\n",
    "data.iloc[0].text"
   ]
  },
  {
   "cell_type": "code",
   "execution_count": 23,
   "metadata": {},
   "outputs": [],
   "source": [
    "from sklearn.model_selection import train_test_split\n",
    "# Split the dataset, create X (features) and y (target), print the size\n",
    "(X_train,X_test,y_train,y_test) = train_test_split(data['text'],data['label'],test_size=0.2)\n",
    "(X_train1,X_dev,y_train1,y_dev) = train_test_split(X_train,y_train,test_size=0.25)"
   ]
  },
  {
   "cell_type": "code",
   "execution_count": 24,
   "metadata": {},
   "outputs": [
    {
     "name": "stdout",
     "output_type": "stream",
     "text": [
      "train data size= 2088 X_test data size= 697 dev data size= 697\n"
     ]
    }
   ],
   "source": [
    "print('train data size=',X_train1.shape[0],'X_test data size=',X_test.shape[0],'dev data size=',X_dev.shape[0])"
   ]
  },
  {
   "cell_type": "code",
   "execution_count": 42,
   "metadata": {},
   "outputs": [],
   "source": [
    "from sklearn.feature_extraction.text import CountVectorizer\n",
    "# Create document vectors\n",
    "\n",
    "vectorizer = CountVectorizer(max_features=2000)\n",
    "vectorizer.fit(X_train1)\n",
    "X_train_counts = vectorizer.transform(X_train1)\n",
    "X_dev_counts = vectorizer.transform(X_dev)\n",
    "X_test_counts = vectorizer.transform(X_test)"
   ]
  },
  {
   "cell_type": "code",
   "execution_count": 43,
   "metadata": {},
   "outputs": [
    {
     "name": "stdout",
     "output_type": "stream",
     "text": [
      "  (0, 11)\t3\n",
      "  (0, 17)\t1\n",
      "  (0, 20)\t1\n",
      "  (0, 23)\t2\n",
      "  (0, 25)\t1\n",
      "  (0, 59)\t4\n",
      "  (0, 62)\t1\n",
      "  (0, 72)\t1\n",
      "  (0, 75)\t1\n",
      "  (0, 76)\t1\n",
      "  (0, 77)\t1\n",
      "  (0, 78)\t1\n",
      "  (0, 89)\t1\n",
      "  (0, 94)\t1\n",
      "  (0, 97)\t1\n",
      "  (0, 107)\t1\n",
      "  (0, 108)\t1\n",
      "  (0, 191)\t1\n",
      "  (0, 226)\t1\n",
      "  (0, 227)\t1\n",
      "  (0, 238)\t2\n",
      "  (0, 243)\t8\n",
      "  (0, 254)\t1\n",
      "  (0, 265)\t1\n",
      "  (0, 269)\t1\n",
      "  :\t:\n",
      "  (2086, 1833)\t8\n",
      "  (2086, 1836)\t1\n",
      "  (2086, 1864)\t1\n",
      "  (2086, 1906)\t1\n",
      "  (2086, 1931)\t6\n",
      "  (2086, 1947)\t1\n",
      "  (2086, 1956)\t7\n",
      "  (2086, 1964)\t5\n",
      "  (2086, 1972)\t1\n",
      "  (2086, 1976)\t1\n",
      "  (2086, 1977)\t2\n",
      "  (2086, 1991)\t4\n",
      "  (2086, 1992)\t1\n",
      "  (2086, 1994)\t1\n",
      "  (2087, 162)\t1\n",
      "  (2087, 202)\t1\n",
      "  (2087, 381)\t1\n",
      "  (2087, 783)\t1\n",
      "  (2087, 818)\t1\n",
      "  (2087, 1025)\t1\n",
      "  (2087, 1283)\t1\n",
      "  (2087, 1609)\t1\n",
      "  (2087, 1642)\t1\n",
      "  (2087, 1780)\t1\n",
      "  (2087, 1931)\t1\n"
     ]
    }
   ],
   "source": [
    "print(X_train_counts)"
   ]
  },
  {
   "cell_type": "code",
   "execution_count": 44,
   "metadata": {},
   "outputs": [
    {
     "name": "stdout",
     "output_type": "stream",
     "text": [
      "0.8309386973180076\n",
      "0.7446197991391679\n",
      "0.7446197991391679\n"
     ]
    }
   ],
   "source": [
    "# train a Naive Bayes classifier\n",
    "from sklearn.naive_bayes import MultinomialNB\n",
    "clf = MultinomialNB()\n",
    "clf.fit(X_train_counts, y_train1)\n",
    "print(clf.score(X_train_counts, y_train1))\n",
    "print(clf.score(X_dev_counts, y_dev))\n",
    "print(clf.score(X_test_counts, y_test))"
   ]
  },
  {
   "cell_type": "code",
   "execution_count": null,
   "metadata": {},
   "outputs": [],
   "source": []
  }
 ],
 "metadata": {
  "kernelspec": {
   "display_name": "Python 3",
   "language": "python",
   "name": "python3"
  },
  "language_info": {
   "codemirror_mode": {
    "name": "ipython",
    "version": 3
   },
   "file_extension": ".py",
   "mimetype": "text/x-python",
   "name": "python",
   "nbconvert_exporter": "python",
   "pygments_lexer": "ipython3",
   "version": "3.6.5"
  }
 },
 "nbformat": 4,
 "nbformat_minor": 2
}
