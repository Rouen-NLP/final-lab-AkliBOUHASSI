{
 "cells": [
  {
   "cell_type": "markdown",
   "metadata": {},
   "source": [
    "# <center> Final Project Text Analysis </center>"
   ]
  },
  {
   "cell_type": "code",
   "execution_count": 84,
   "metadata": {},
   "outputs": [],
   "source": [
    "import pandas as pd\n",
    "\n",
    "# load dataframe from CSV file\n",
    "data = pd.read_csv('data/tobacco-lab_data_Tobacco3482.csv')"
   ]
  },
  {
   "cell_type": "code",
   "execution_count": 85,
   "metadata": {},
   "outputs": [
    {
     "data": {
      "text/plain": [
       "img_path    3482\n",
       "label       3482\n",
       "dtype: int64"
      ]
     },
     "execution_count": 85,
     "metadata": {},
     "output_type": "execute_result"
    }
   ],
   "source": [
    "#on verifie qu'il y a pas de valeur manquante\n",
    "data.count()"
   ]
  },
  {
   "cell_type": "code",
   "execution_count": 86,
   "metadata": {},
   "outputs": [
    {
     "data": {
      "text/html": [
       "<div>\n",
       "<style scoped>\n",
       "    .dataframe tbody tr th:only-of-type {\n",
       "        vertical-align: middle;\n",
       "    }\n",
       "\n",
       "    .dataframe tbody tr th {\n",
       "        vertical-align: top;\n",
       "    }\n",
       "\n",
       "    .dataframe thead th {\n",
       "        text-align: right;\n",
       "    }\n",
       "</style>\n",
       "<table border=\"1\" class=\"dataframe\">\n",
       "  <thead>\n",
       "    <tr style=\"text-align: right;\">\n",
       "      <th></th>\n",
       "      <th>img_path</th>\n",
       "      <th>label</th>\n",
       "    </tr>\n",
       "  </thead>\n",
       "  <tbody>\n",
       "    <tr>\n",
       "      <th>0</th>\n",
       "      <td>Advertisement/0000136188.jpg</td>\n",
       "      <td>Advertisement</td>\n",
       "    </tr>\n",
       "    <tr>\n",
       "      <th>1</th>\n",
       "      <td>Advertisement/0000435350.jpg</td>\n",
       "      <td>Advertisement</td>\n",
       "    </tr>\n",
       "    <tr>\n",
       "      <th>2</th>\n",
       "      <td>Advertisement/0000556056.jpg</td>\n",
       "      <td>Advertisement</td>\n",
       "    </tr>\n",
       "    <tr>\n",
       "      <th>3</th>\n",
       "      <td>Advertisement/0030048095.jpg</td>\n",
       "      <td>Advertisement</td>\n",
       "    </tr>\n",
       "    <tr>\n",
       "      <th>4</th>\n",
       "      <td>Advertisement/0030048989.jpg</td>\n",
       "      <td>Advertisement</td>\n",
       "    </tr>\n",
       "  </tbody>\n",
       "</table>\n",
       "</div>"
      ],
      "text/plain": [
       "                       img_path          label\n",
       "0  Advertisement/0000136188.jpg  Advertisement\n",
       "1  Advertisement/0000435350.jpg  Advertisement\n",
       "2  Advertisement/0000556056.jpg  Advertisement\n",
       "3  Advertisement/0030048095.jpg  Advertisement\n",
       "4  Advertisement/0030048989.jpg  Advertisement"
      ]
     },
     "execution_count": 86,
     "metadata": {},
     "output_type": "execute_result"
    }
   ],
   "source": [
    "data.head(5)"
   ]
  },
  {
   "cell_type": "markdown",
   "metadata": {},
   "source": [
    "#### on cherche a predire les classes a partir des fichiers text. On remarque qu'on a les liens vers les fichiers photos et pas text. Par contre ils ont le meme nom sauf l'extension donc il suffit de changer '.jpg' par '.txt' pour pouvoir lire les fichiers text. Ensuite, on remplace le lien vers les text par le text qui correspond comme suit:"
   ]
  },
  {
   "cell_type": "code",
   "execution_count": 87,
   "metadata": {
    "scrolled": true
   },
   "outputs": [
    {
     "name": "stderr",
     "output_type": "stream",
     "text": [
      "/Users/Akli/anaconda3/lib/python3.6/site-packages/ipykernel_launcher.py:4: FutureWarning: get_value is deprecated and will be removed in a future release. Please use .at[] or .iat[] accessors instead\n",
      "  after removing the cwd from sys.path.\n",
      "/Users/Akli/anaconda3/lib/python3.6/site-packages/ipykernel_launcher.py:5: FutureWarning: set_value is deprecated and will be removed in a future release. Please use .at[] or .iat[] accessors instead\n",
      "  \"\"\"\n",
      "/Users/Akli/anaconda3/lib/python3.6/site-packages/ipykernel_launcher.py:6: FutureWarning: get_value is deprecated and will be removed in a future release. Please use .at[] or .iat[] accessors instead\n",
      "  \n",
      "/Users/Akli/anaconda3/lib/python3.6/site-packages/ipykernel_launcher.py:6: FutureWarning: set_value is deprecated and will be removed in a future release. Please use .at[] or .iat[] accessors instead\n",
      "  \n",
      "/Users/Akli/anaconda3/lib/python3.6/site-packages/ipykernel_launcher.py:7: FutureWarning: get_value is deprecated and will be removed in a future release. Please use .at[] or .iat[] accessors instead\n",
      "  import sys\n",
      "/Users/Akli/anaconda3/lib/python3.6/site-packages/ipykernel_launcher.py:7: FutureWarning: set_value is deprecated and will be removed in a future release. Please use .at[] or .iat[] accessors instead\n",
      "  import sys\n"
     ]
    }
   ],
   "source": [
    "nbr = data.shape[0]\n",
    "\n",
    "for i in range (nbr):\n",
    "    a = data.get_value(i, 'img_path')\n",
    "    data.set_value(i, 'img_path', 'data/Tobacco3482-OCR/'+a)\n",
    "    data.set_value(i, 'img_path', data.get_value(i, 'img_path').split('.jpg')[0]+'.txt')\n",
    "    data.set_value(i, 'img_path',open(data.get_value(i, 'img_path'), \"r\").read())"
   ]
  },
  {
   "cell_type": "markdown",
   "metadata": {},
   "source": [
    "#### On change le nom des columns en text et label"
   ]
  },
  {
   "cell_type": "code",
   "execution_count": 88,
   "metadata": {},
   "outputs": [],
   "source": [
    "data.columns = ['text','label']"
   ]
  },
  {
   "cell_type": "markdown",
   "metadata": {},
   "source": [
    "# Partie statistique:"
   ]
  },
  {
   "cell_type": "markdown",
   "metadata": {},
   "source": [
    "#### On affiche les repartitions des classes"
   ]
  },
  {
   "cell_type": "code",
   "execution_count": 89,
   "metadata": {},
   "outputs": [
    {
     "data": {
      "text/plain": [
       "<matplotlib.axes._subplots.AxesSubplot at 0x1a14513b38>"
      ]
     },
     "execution_count": 89,
     "metadata": {},
     "output_type": "execute_result"
    },
    {
     "data": {
      "image/png": "[encoded data removed]",
      "text/plain": [
       "<Figure size 504x504 with 1 Axes>"
      ]
     },
     "metadata": {
      "needs_background": "light"
     },
     "output_type": "display_data"
    }
   ],
   "source": [
    "import seaborn as sns\n",
    "import matplotlib.pyplot as plt\n",
    "%matplotlib inline\n",
    "\n",
    "# Plot the statistics of category\n",
    "plt.figure(1,figsize = (7,7))\n",
    "plt.title(\"plot of the class frequencies\")\n",
    "sns.countplot(data=data,y='label')"
   ]
  },
  {
   "cell_type": "markdown",
   "metadata": {},
   "source": [
    "#### On peut faire aussi afficher en camembert"
   ]
  },
  {
   "cell_type": "code",
   "execution_count": 90,
   "metadata": {},
   "outputs": [
    {
     "data": {
      "image/png": "[encoded data removed]",
      "text/plain": [
       "<Figure size 576x576 with 1 Axes>"
      ]
     },
     "metadata": {},
     "output_type": "display_data"
    }
   ],
   "source": [
    "counts =data[\"label\"].value_counts()\n",
    "plt.figure(2,figsize = (8,8))\n",
    "plt.title(\"Camembert plot of the class frequencies\")\n",
    "plt.pie(counts,labels = counts.index,shadow = True)\n",
    "plt.show()"
   ]
  },
  {
   "cell_type": "markdown",
   "metadata": {},
   "source": [
    "#### On remarque que les donnees ne sont pas vraiment desequilibres  malgres que les classes memo email letter et form representent plus de la moitie. mais on peut dire qu'on aura meilleur classification pour les classes les plus representees"
   ]
  },
  {
   "cell_type": "markdown",
   "metadata": {},
   "source": [
    "#### On aimerait afficher nos donnees pour avoir une idee de qui il s'agit donc on affiche un exemple "
   ]
  },
  {
   "cell_type": "code",
   "execution_count": 91,
   "metadata": {},
   "outputs": [
    {
     "name": "stdout",
     "output_type": "stream",
     "text": [
      "                                                text          label\n",
      "0  A Mpertant as yar\\nsesiye teaetered cabiieess....  Advertisement\n",
      "1  TE che fitm\\n\\nm66400 7127\\n\\nKOOLS are the on...  Advertisement\n",
      "2  so ARN Rr nr\\n\\nBWR Ga ||\\n\\nVending Operators...  Advertisement\n",
      "3  MARCH 24,19 VO — 3. Tersrearep\\n\\n \\n\\n‘ yi il...  Advertisement\n",
      "4  ~\\n\\nSpend a milder moment qs\\nwith Raleigh.\\n...  Advertisement\n"
     ]
    },
    {
     "data": {
      "text/plain": [
       "'- 4 lovap moan... o-fot of cigarette\\n\\n“He gets.a lot to like—filter, flavor, flip-top box.’’ The works.\\n~ A filter that means business. An easy draw that’s all\\nflavor, And the flip-top box that ends crushed cigarettes.\\n\\ni\\nI\\n~ hoe ‘(MADE IN RICHMOND, VIRGINIA, FROM .A PRIZED RECIPE)\\n\\n~ aay'"
      ]
     },
     "execution_count": 91,
     "metadata": {},
     "output_type": "execute_result"
    }
   ],
   "source": [
    "# Print examples of the articles\n",
    "print(data.head())\n",
    "data.iloc[15].text"
   ]
  },
  {
   "cell_type": "markdown",
   "metadata": {},
   "source": [
    "# Partie Machine learning"
   ]
  },
  {
   "cell_type": "markdown",
   "metadata": {},
   "source": [
    "### Separation des donnees en donnees d'apprentissage et donnees de test"
   ]
  },
  {
   "cell_type": "markdown",
   "metadata": {},
   "source": [
    "##### Puisque on a 3482 individues donc il est mieux de les separer en 60% dapprentissage 20% de validation et 20% de test"
   ]
  },
  {
   "cell_type": "code",
   "execution_count": 92,
   "metadata": {},
   "outputs": [],
   "source": [
    "from sklearn.model_selection import train_test_split\n",
    "# Split the dataset, create X (features) and y (target), print the size\n",
    "(X_train,X_test,y_train,y_test) = train_test_split(data['text'],data['label'],test_size=0.2)\n",
    "(X_train1,X_dev,y_train1,y_dev) = train_test_split(X_train,y_train,test_size=0.25)"
   ]
  },
  {
   "cell_type": "code",
   "execution_count": 93,
   "metadata": {},
   "outputs": [
    {
     "name": "stdout",
     "output_type": "stream",
     "text": [
      "train data size= 2088 X_test data size= 697 dev data size= 697\n"
     ]
    }
   ],
   "source": [
    "print('train data size=',X_train1.shape[0],'X_test data size=',X_test.shape[0],'dev data size=',X_dev.shape[0])"
   ]
  },
  {
   "cell_type": "markdown",
   "metadata": {},
   "source": [
    "#### Pour appliquer des algorithmes d'apprentissage automatique au texte, les documents doivent être transformés en vecteurs. Le moyen le plus simple de transformer un document en vecteur est Le Bag of Word BoG"
   ]
  },
  {
   "cell_type": "markdown",
   "metadata": {},
   "source": [
    "#### Dans un premier temps on utilise CountVectorizer dont le principe est de creer un dictionnaire de mot contenant dans la base d'apprentissage puis compter le nombre de fois qu'un mot apparaisse dans un document pour creer le vecteur qui represente chaque document. Puis on garde que les 2000 mot qui apparaisse le plus (max_features=2000) pour cet exemple"
   ]
  },
  {
   "cell_type": "code",
   "execution_count": 94,
   "metadata": {},
   "outputs": [],
   "source": [
    "from sklearn.feature_extraction.text import CountVectorizer\n",
    "# Create document vectors\n",
    "vectorizer = CountVectorizer(max_features=2000)\n",
    "vectorizer.fit(X_train1)\n",
    "X_train_counts = vectorizer.transform(X_train1)\n",
    "X_dev_counts = vectorizer.transform(X_dev)\n",
    "X_test_counts = vectorizer.transform(X_test)"
   ]
  },
  {
   "cell_type": "markdown",
   "metadata": {},
   "source": [
    "### On applique algorithme de Naive Bayes"
   ]
  },
  {
   "cell_type": "code",
   "execution_count": 96,
   "metadata": {},
   "outputs": [
    {
     "name": "stdout",
     "output_type": "stream",
     "text": [
      "Accuracy pour les donnees d apprentissage =  0.8304597701149425\n",
      "Accuracy pour les donnees de validation =    0.7403156384505022\n",
      "Accuracy pour les donnees de test =          0.7015781922525107\n"
     ]
    }
   ],
   "source": [
    "# train a Naive Bayes classifier\n",
    "from sklearn.naive_bayes import MultinomialNB\n",
    "clf = MultinomialNB()\n",
    "clf.fit(X_train_counts, y_train1)\n",
    "print('Accuracy pour les donnees d apprentissage = ',clf.score(X_train_counts, y_train1))\n",
    "print('Accuracy pour les donnees de validation =   ',clf.score(X_dev_counts, y_dev))\n",
    "print('Accuracy pour les donnees de test =         ',clf.score(X_test_counts, y_test))\n",
    "y_pred_counts = clf.predict(X_test_counts)\n"
   ]
  },
  {
   "cell_type": "markdown",
   "metadata": {},
   "source": [
    "#### Une autre methode pour vectorizer nos donnees est TFIDF qui prend en compte le nombre de documents dans lesquels un mot donné apparaît. Un mot qui apparaît dans de nombreux documents aura moins de poids"
   ]
  },
  {
   "cell_type": "code",
   "execution_count": 97,
   "metadata": {},
   "outputs": [],
   "source": [
    "from sklearn.feature_extraction.text import TfidfTransformer\n",
    "# YOUR CODE HERE\n",
    "tf_transformer = TfidfTransformer().fit(X_train_counts)\n",
    "X_train_tf = tf_transformer.transform(X_train_counts)\n",
    "X_dev_tf = tf_transformer.transform(X_dev_counts)\n",
    "X_test_tf = tf_transformer.transform(X_test_counts)"
   ]
  },
  {
   "cell_type": "code",
   "execution_count": 98,
   "metadata": {},
   "outputs": [
    {
     "name": "stdout",
     "output_type": "stream",
     "text": [
      "0.742816091954023\n",
      "0.6571018651362984\n",
      "0.642754662840746\n"
     ]
    }
   ],
   "source": [
    "# train a Naive Bayes classifier\n",
    "from sklearn.naive_bayes import MultinomialNB\n",
    "clf = MultinomialNB()\n",
    "clf.fit(X_train_tf, y_train1)\n",
    "print(clf.score(X_train_tf, y_train1))\n",
    "print(clf.score(X_dev_tf, y_dev))\n",
    "print(clf.score(X_test_tf, y_test))\n",
    "y_pred_tf = clf.predict(X_test_tf)\n"
   ]
  },
  {
   "cell_type": "markdown",
   "metadata": {},
   "source": [
    "#### On obtient des resultats moins bons avec TFIDF"
   ]
  },
  {
   "cell_type": "markdown",
   "metadata": {},
   "source": [
    "### On peut voir plus en detail les resultats avec la matrice de confusion "
   ]
  },
  {
   "cell_type": "code",
   "execution_count": 99,
   "metadata": {},
   "outputs": [
    {
     "name": "stdout",
     "output_type": "stream",
     "text": [
      "Matrice de confusion(CountVectorizer):\n",
      " [[33  1  3  4  6  2  1  0  0  0]\n",
      " [ 0 98  0  5  2  0  0  0  0  0]\n",
      " [ 6  2 63  1  4  1  2  1  0  1]\n",
      " [ 0  0  3 82 17  3  0 14  0  2]\n",
      " [ 2  8  3 13 94  1  2  2  0  1]\n",
      " [ 5  0  1  1  1 32  0  0  0  1]\n",
      " [ 4  4  7  1 11  0  9  0  0  0]\n",
      " [ 1  1  1  4  9  7  1 20  0  9]\n",
      " [ 0  0  0  0  0  0  0  0 19  0]\n",
      " [ 3  0 10  3  3  3  2  1  1 39]]\n",
      "Matrice de confusion(TfidfTransformer) :\n",
      " [[ 23   1   8   3  15   0   0   0   0   0]\n",
      " [  0  98   0   3   4   0   0   0   0   0]\n",
      " [  0   4  63   0  13   0   0   0   0   1]\n",
      " [  0   0   0  82  38   0   0   0   0   1]\n",
      " [  0   7   1  10 108   0   0   0   0   0]\n",
      " [  1   0   5   7   6  21   0   0   0   1]\n",
      " [  0   6  13   2  15   0   0   0   0   0]\n",
      " [  0   1   0  12  30   2   0   2   0   6]\n",
      " [  0   0   0   0   0   0   0   0  19   0]\n",
      " [  0   0  12  10  11   0   0   0   0  32]]\n"
     ]
    }
   ],
   "source": [
    "from sklearn.metrics import confusion_matrix\n",
    "confusion_counts = confusion_matrix(y_test,y_pred_counts)\n",
    "confusion_tf = confusion_matrix(y_test,y_pred_tf)\n",
    "print('Matrice de confusion(CountVectorizer):\\n',confusion_counts)\n",
    "print('Matrice de confusion(TfidfTransformer) :\\n',confusion_tf)"
   ]
  },
  {
   "cell_type": "markdown",
   "metadata": {},
   "source": [
    "### Pour voir plus en detail pour chaque classe"
   ]
  },
  {
   "cell_type": "code",
   "execution_count": 100,
   "metadata": {},
   "outputs": [
    {
     "name": "stdout",
     "output_type": "stream",
     "text": [
      "               precision    recall  f1-score   support\n",
      "\n",
      "Advertisement       0.61      0.66      0.63        50\n",
      "        Email       0.86      0.93      0.89       105\n",
      "         Form       0.69      0.78      0.73        81\n",
      "       Letter       0.72      0.68      0.70       121\n",
      "         Memo       0.64      0.75      0.69       126\n",
      "         News       0.65      0.78      0.71        41\n",
      "         Note       0.53      0.25      0.34        36\n",
      "       Report       0.53      0.38      0.44        53\n",
      "       Resume       0.95      1.00      0.97        19\n",
      "   Scientific       0.74      0.60      0.66        65\n",
      "\n",
      "  avg / total       0.69      0.70      0.69       697\n",
      "\n",
      "               precision    recall  f1-score   support\n",
      "\n",
      "Advertisement       0.96      0.46      0.62        50\n",
      "        Email       0.84      0.93      0.88       105\n",
      "         Form       0.62      0.78      0.69        81\n",
      "       Letter       0.64      0.68      0.66       121\n",
      "         Memo       0.45      0.86      0.59       126\n",
      "         News       0.91      0.51      0.66        41\n",
      "         Note       0.00      0.00      0.00        36\n",
      "       Report       1.00      0.04      0.07        53\n",
      "       Resume       1.00      1.00      1.00        19\n",
      "   Scientific       0.78      0.49      0.60        65\n",
      "\n",
      "  avg / total       0.69      0.64      0.61       697\n",
      "\n"
     ]
    },
    {
     "name": "stderr",
     "output_type": "stream",
     "text": [
      "/Users/Akli/anaconda3/lib/python3.6/site-packages/sklearn/metrics/classification.py:1135: UndefinedMetricWarning: Precision and F-score are ill-defined and being set to 0.0 in labels with no predicted samples.\n",
      "  'precision', 'predicted', average, warn_for)\n"
     ]
    }
   ],
   "source": [
    "from sklearn.metrics import classification_report\n",
    "report_counts = classification_report(y_test,y_pred_counts)\n",
    "report_tf = classification_report(y_test,y_pred_tf)\n",
    "print(report_counts)\n",
    "print(report_tf)"
   ]
  },
  {
   "cell_type": "markdown",
   "metadata": {},
   "source": [
    "#### Maintenat On cherche a determiner les meilleur parametre"
   ]
  },
  {
   "cell_type": "code",
   "execution_count": 56,
   "metadata": {},
   "outputs": [],
   "source": [
    "from sklearn.feature_extraction.text import CountVectorizer\n",
    "# Create document vectors\n",
    "vectorizer = CountVectorizer(max_features=2000)\n",
    "vectorizer.fit(X_train)\n",
    "X_train_counts = vectorizer.transform(X_train)\n",
    "X_test_counts = vectorizer.transform(X_test)"
   ]
  },
  {
   "cell_type": "code",
   "execution_count": 71,
   "metadata": {},
   "outputs": [
    {
     "name": "stderr",
     "output_type": "stream",
     "text": [
      "/Users/Akli/anaconda3/lib/python3.6/site-packages/sklearn/naive_bayes.py:472: UserWarning: alpha too small will result in numeric errors, setting alpha = 1.0e-10\n",
      "  'setting alpha = %.1e' % _ALPHA_MIN)\n",
      "/Users/Akli/anaconda3/lib/python3.6/site-packages/sklearn/naive_bayes.py:472: UserWarning: alpha too small will result in numeric errors, setting alpha = 1.0e-10\n",
      "  'setting alpha = %.1e' % _ALPHA_MIN)\n",
      "/Users/Akli/anaconda3/lib/python3.6/site-packages/sklearn/naive_bayes.py:472: UserWarning: alpha too small will result in numeric errors, setting alpha = 1.0e-10\n",
      "  'setting alpha = %.1e' % _ALPHA_MIN)\n",
      "/Users/Akli/anaconda3/lib/python3.6/site-packages/sklearn/naive_bayes.py:472: UserWarning: alpha too small will result in numeric errors, setting alpha = 1.0e-10\n",
      "  'setting alpha = %.1e' % _ALPHA_MIN)\n",
      "/Users/Akli/anaconda3/lib/python3.6/site-packages/sklearn/naive_bayes.py:472: UserWarning: alpha too small will result in numeric errors, setting alpha = 1.0e-10\n",
      "  'setting alpha = %.1e' % _ALPHA_MIN)\n"
     ]
    },
    {
     "name": "stdout",
     "output_type": "stream",
     "text": [
      "best parameter is {'alpha': 1.0} with score of  0.7210053859964093\n"
     ]
    }
   ],
   "source": [
    "from sklearn import  model_selection\n",
    "parameters = {'alpha' : [0.0, 1.0, 2.0, 3.0, 4.0, 5.0, 7.0, 8.0, 9.0, 10.0]}\n",
    "clf = MultinomialNB()\n",
    "grid = model_selection.GridSearchCV(clf, parameters, cv = 5)\n",
    "grid.fit(X_train_counts, y_train)\n",
    "print('best parameter is',grid.best_params_, 'with score of ', grid.best_score_)"
   ]
  },
  {
   "cell_type": "code",
   "execution_count": 101,
   "metadata": {},
   "outputs": [],
   "source": [
    "# Deep learning"
   ]
  },
  {
   "cell_type": "code",
   "execution_count": 81,
   "metadata": {},
   "outputs": [],
   "source": [
    "import ast\n",
    "import os\n",
    "from nn_utils import TrainingHistory\n",
    "from keras.layers import Dense, Embedding, Input\n",
    "from keras.layers import GRU, Dropout, MaxPooling1D, Conv1D, Flatten, LSTM\n",
    "from keras.models import Model\n",
    "import numpy as np\n",
    "import itertools\n",
    "from keras.utils import np_utils\n",
    "from sklearn.metrics import (classification_report, \n",
    "                             precision_recall_fscore_support, \n",
    "                             accuracy_score)\n",
    "\n",
    "from keras.preprocessing import text, sequence\n",
    "\n"
   ]
  },
  {
   "cell_type": "code",
   "execution_count": 82,
   "metadata": {},
   "outputs": [],
   "source": [
    "# Model parameters\n",
    "MAX_FEATURES = 2000\n",
    "MAX_TEXT_LENGTH = 2000\n",
    "EMBED_SIZE  = 200\n",
    "BATCH_SIZE = 16\n",
    "EPOCHS = 15\n",
    "VALIDATION_SPLIT = 0.1"
   ]
  },
  {
   "cell_type": "code",
   "execution_count": 83,
   "metadata": {},
   "outputs": [
    {
     "name": "stdout",
     "output_type": "stream",
     "text": [
      "[0 1 2 3 4 5 6 7 8 9]\n",
      "2785 697\n",
      "_________________________________________________________________\n",
      "Layer (type)                 Output Shape              Param #   \n",
      "=================================================================\n",
      "input_5 (InputLayer)         (None, 2000)              0         \n",
      "_________________________________________________________________\n",
      "embedding_5 (Embedding)      (None, 2000, 200)         400000    \n",
      "_________________________________________________________________\n",
      "dropout_11 (Dropout)         (None, 2000, 200)         0         \n",
      "_________________________________________________________________\n",
      "conv1d_10 (Conv1D)           (None, 2000, 32)          19232     \n",
      "_________________________________________________________________\n",
      "max_pooling1d_10 (MaxPooling (None, 1000, 32)          0         \n",
      "_________________________________________________________________\n",
      "dropout_12 (Dropout)         (None, 1000, 32)          0         \n",
      "_________________________________________________________________\n",
      "conv1d_11 (Conv1D)           (None, 1000, 64)          6208      \n",
      "_________________________________________________________________\n",
      "max_pooling1d_11 (MaxPooling (None, 500, 64)           0         \n",
      "_________________________________________________________________\n",
      "dropout_13 (Dropout)         (None, 500, 64)           0         \n",
      "_________________________________________________________________\n",
      "lstm_1 (LSTM)                (None, 50)                23000     \n",
      "_________________________________________________________________\n",
      "dense_4 (Dense)              (None, 10)                510       \n",
      "=================================================================\n",
      "Total params: 448,950\n",
      "Trainable params: 448,950\n",
      "Non-trainable params: 0\n",
      "_________________________________________________________________\n",
      "Train on 2506 samples, validate on 279 samples\n",
      "Epoch 1/15\n",
      "2506/2506 [==============================] - 128s 51ms/step - loss: 1.9156 - acc: 0.2662 - val_loss: 1.5341 - val_acc: 0.3799\n",
      "Epoch 2/15\n",
      "2506/2506 [==============================] - 131s 52ms/step - loss: 1.2935 - acc: 0.5180 - val_loss: 1.1711 - val_acc: 0.5591\n",
      "Epoch 3/15\n",
      "2506/2506 [==============================] - 133s 53ms/step - loss: 1.0106 - acc: 0.6441 - val_loss: 1.2214 - val_acc: 0.5556\n",
      "Epoch 4/15\n",
      "2506/2506 [==============================] - 137s 55ms/step - loss: 0.8619 - acc: 0.6903 - val_loss: 1.0266 - val_acc: 0.6129\n",
      "Epoch 5/15\n",
      "2506/2506 [==============================] - 132s 53ms/step - loss: 0.7403 - acc: 0.7326 - val_loss: 1.0815 - val_acc: 0.6201\n",
      "Epoch 6/15\n",
      "2506/2506 [==============================] - 128s 51ms/step - loss: 0.6633 - acc: 0.7666 - val_loss: 1.0594 - val_acc: 0.6452\n",
      "Epoch 7/15\n",
      "2506/2506 [==============================] - 133s 53ms/step - loss: 0.5838 - acc: 0.8077 - val_loss: 0.9744 - val_acc: 0.6989\n",
      "Epoch 8/15\n",
      "2506/2506 [==============================] - 132s 52ms/step - loss: 0.5416 - acc: 0.8117 - val_loss: 1.0062 - val_acc: 0.6774\n",
      "Epoch 9/15\n",
      "2506/2506 [==============================] - 128s 51ms/step - loss: 0.5198 - acc: 0.8324 - val_loss: 0.9449 - val_acc: 0.6989\n",
      "Epoch 10/15\n",
      "2506/2506 [==============================] - 128s 51ms/step - loss: 0.4238 - acc: 0.8599 - val_loss: 0.9814 - val_acc: 0.7276\n",
      "Epoch 11/15\n",
      "2506/2506 [==============================] - 126s 50ms/step - loss: 0.4035 - acc: 0.8667 - val_loss: 0.9363 - val_acc: 0.7384\n",
      "Epoch 12/15\n",
      "2506/2506 [==============================] - 136s 54ms/step - loss: 0.3696 - acc: 0.8699 - val_loss: 1.0378 - val_acc: 0.7133\n",
      "Epoch 13/15\n",
      "2506/2506 [==============================] - 135s 54ms/step - loss: 0.3143 - acc: 0.9030 - val_loss: 0.9239 - val_acc: 0.7384\n",
      "Epoch 14/15\n",
      "2506/2506 [==============================] - 135s 54ms/step - loss: 0.3140 - acc: 0.8994 - val_loss: 1.1202 - val_acc: 0.6810\n",
      "Epoch 15/15\n",
      "2506/2506 [==============================] - 133s 53ms/step - loss: 0.3098 - acc: 0.9042 - val_loss: 1.0252 - val_acc: 0.7240\n",
      "Test Accuracy: 0.7159253945480631\n",
      "p r f1 71.6 71.59 71.593\n",
      "             precision    recall  f1-score   support\n",
      "\n",
      "          0       0.44      0.54      0.48        41\n",
      "          1       0.97      0.92      0.94       126\n",
      "          2       0.71      0.71      0.71        73\n",
      "          3       0.84      0.66      0.74       114\n",
      "          4       0.83      0.85      0.84       136\n",
      "          5       0.47      0.42      0.45        40\n",
      "          6       0.64      0.54      0.59        50\n",
      "          7       0.33      0.46      0.38        52\n",
      "          8       0.88      0.88      0.88        26\n",
      "          9       0.56      0.69      0.62        39\n",
      "\n",
      "avg / total       0.74      0.72      0.72       697\n",
      "\n"
     ]
    }
   ],
   "source": [
    "from nn_utils import TrainingHistory\n",
    "\n",
    "def get_train_test(train_raw_text, test_raw_text):\n",
    "    \n",
    "    tokenizer = text.Tokenizer(num_words=MAX_FEATURES)\n",
    "\n",
    "    tokenizer.fit_on_texts(list(train_raw_text))\n",
    "    train_tokenized = tokenizer.texts_to_sequences(train_raw_text)\n",
    "    test_tokenized = tokenizer.texts_to_sequences(test_raw_text)\n",
    "    return sequence.pad_sequences(train_tokenized, maxlen=MAX_TEXT_LENGTH), \\\n",
    "           sequence.pad_sequences(test_tokenized, maxlen=MAX_TEXT_LENGTH)\n",
    "\n",
    "def get_model():\n",
    "\n",
    "    inp = Input(shape=(MAX_TEXT_LENGTH,))\n",
    "    model = Embedding(MAX_TEXT_LENGTH,EMBED_SIZE)(inp)\n",
    "    model = Dropout(0.4)(model)\n",
    "    model = Conv1D(filters=32, kernel_size=3, padding='same', activation='relu')(model)\n",
    "    model = MaxPooling1D(pool_size=2)(model)\n",
    "    model = Dropout(0.4)(model)\n",
    "    model = Conv1D(filters=64, kernel_size=3, padding='same', activation='relu')(model)\n",
    "    model = MaxPooling1D(pool_size=2)(model)\n",
    "    model = Dropout(0.25)(model)\n",
    "    model = LSTM(50)(model)\n",
    "    model = Dense(10, activation=\"softmax\")(model)\n",
    "    model = Model(inputs=inp, outputs=model)\n",
    "    \n",
    "    model.compile(loss='categorical_crossentropy', optimizer='adam', metrics=['accuracy'])\n",
    "    model.summary()\n",
    "    return model\n",
    "\n",
    "def train_fit_predict(model, x_train, x_test, y, history):\n",
    "    \n",
    "    model.fit(x_train, y,\n",
    "              batch_size=BATCH_SIZE,\n",
    "              epochs=EPOCHS, verbose=1,\n",
    "              validation_split=VALIDATION_SPLIT)\n",
    "\n",
    "    return model.predict(x_test)\n",
    "\n",
    "\n",
    "# Get the list of different classes\n",
    "CLASSES_LIST = np.unique(y_train)\n",
    "n_out = len(CLASSES_LIST)\n",
    "print(CLASSES_LIST)\n",
    "\n",
    "# Convert clas string to index\n",
    "from sklearn import preprocessing\n",
    "le = preprocessing.LabelEncoder()\n",
    "le.fit(CLASSES_LIST)\n",
    "y_train = le.transform(y_train) \n",
    "y_test = le.transform(y_test) \n",
    "train_y_cat = np_utils.to_categorical(y_train, n_out)\n",
    "\n",
    "# get the textual data in the correct format for NN\n",
    "x_vec_train, x_vec_test = get_train_test(X_train, X_test)\n",
    "print(len(x_vec_train), len(x_vec_test))\n",
    "\n",
    "# define the NN topology\n",
    "model = get_model()\n",
    "\n",
    "# Define training procedure\n",
    "history = TrainingHistory(x_vec_test, y_test, CLASSES_LIST)\n",
    "\n",
    "# Train and predict\n",
    "y_predicted = train_fit_predict(model, x_vec_train, x_vec_test, train_y_cat, history).argmax(1)\n",
    "\n",
    "\n",
    "print(\"Test Accuracy:\", accuracy_score(y_test, y_predicted))\n",
    "\n",
    "p, r, f1, s = precision_recall_fscore_support(y_test, y_predicted, \n",
    "                                              average='micro',\n",
    "                                              labels=[x for x in \n",
    "                                                      np.unique(y_train) \n",
    "                                                      if x not in ['CSDECMOTV']])\n",
    "\n",
    "print('p r f1 %.1f %.2f %.3f' % (np.average(p, weights=s)*100.0, \n",
    "                                 np.average(r, weights=s)*100.0, \n",
    "                                 np.average(f1, weights=s)*100.0))\n",
    "\n",
    "\n",
    "print(classification_report(y_test, y_predicted, labels=[x for x in \n",
    "                                                       np.unique(y_train) \n",
    "                                                       if x not in ['CSDECMOTV']]))"
   ]
  },
  {
   "cell_type": "code",
   "execution_count": null,
   "metadata": {},
   "outputs": [],
   "source": []
  }
 ],
 "metadata": {
  "kernelspec": {
   "display_name": "Python 3",
   "language": "python",
   "name": "python3"
  },
  "language_info": {
   "codemirror_mode": {
    "name": "ipython",
    "version": 3
   },
   "file_extension": ".py",
   "mimetype": "text/x-python",
   "name": "python",
   "nbconvert_exporter": "python",
   "pygments_lexer": "ipython3",
   "version": "3.6.5"
  }
 },
 "nbformat": 4,
 "nbformat_minor": 2
}
